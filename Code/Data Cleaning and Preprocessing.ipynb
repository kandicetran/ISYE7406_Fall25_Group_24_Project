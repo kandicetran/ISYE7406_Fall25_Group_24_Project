{
 "cells": [
  {
   "cell_type": "code",
   "execution_count": 1,
   "id": "a4fa79b4",
   "metadata": {},
   "outputs": [],
   "source": [
    "import pandas as pd\n",
    "import os\n",
    "from sklearn.preprocessing import StandardScaler"
   ]
  },
  {
   "cell_type": "code",
   "execution_count": 3,
   "id": "41209090",
   "metadata": {},
   "outputs": [
    {
     "data": {
      "text/plain": [
       "PdId              0\n",
       "IncidntNum        0\n",
       "Incident Code     0\n",
       "Category          0\n",
       "Descript          0\n",
       "DayOfWeek         0\n",
       "Date              0\n",
       "Time              0\n",
       "PdDistrict        0\n",
       "Resolution        0\n",
       "Address           0\n",
       "X                 0\n",
       "Y                 0\n",
       "location          0\n",
       "data_loaded_at    0\n",
       "dtype: int64"
      ]
     },
     "execution_count": 3,
     "metadata": {},
     "output_type": "execute_result"
    }
   ],
   "source": [
    "df = pd.read_csv(\"/Users/kandicetran/Downloads/Police_Department_Incident_Reports__Historical_2003_to_May_2018_20250930.csv\")\n",
    "df = df.dropna() # Drop row with null values\n",
    "df.isnull().sum() # Double check null values"
   ]
  },
  {
   "cell_type": "code",
   "execution_count": 4,
   "id": "0c530309",
   "metadata": {},
   "outputs": [
    {
     "data": {
      "text/html": [
       "<div>\n",
       "<style scoped>\n",
       "    .dataframe tbody tr th:only-of-type {\n",
       "        vertical-align: middle;\n",
       "    }\n",
       "\n",
       "    .dataframe tbody tr th {\n",
       "        vertical-align: top;\n",
       "    }\n",
       "\n",
       "    .dataframe thead th {\n",
       "        text-align: right;\n",
       "    }\n",
       "</style>\n",
       "<table border=\"1\" class=\"dataframe\">\n",
       "  <thead>\n",
       "    <tr style=\"text-align: right;\">\n",
       "      <th></th>\n",
       "      <th>PdId</th>\n",
       "      <th>Category</th>\n",
       "      <th>Descript</th>\n",
       "      <th>DayOfWeek</th>\n",
       "      <th>PdDistrict</th>\n",
       "      <th>Resolution</th>\n",
       "      <th>X</th>\n",
       "      <th>Y</th>\n",
       "      <th>Year</th>\n",
       "      <th>Month</th>\n",
       "      <th>Hour</th>\n",
       "      <th>Season</th>\n",
       "    </tr>\n",
       "  </thead>\n",
       "  <tbody>\n",
       "    <tr>\n",
       "      <th>0</th>\n",
       "      <td>11049313327195</td>\n",
       "      <td>TRESPASS</td>\n",
       "      <td>TRESPASSING</td>\n",
       "      <td>Sunday</td>\n",
       "      <td>TARAVAL</td>\n",
       "      <td>NONE</td>\n",
       "      <td>-122.466758</td>\n",
       "      <td>37.729185</td>\n",
       "      <td>2011</td>\n",
       "      <td>6</td>\n",
       "      <td>13</td>\n",
       "      <td>Summer</td>\n",
       "    </tr>\n",
       "    <tr>\n",
       "      <th>1</th>\n",
       "      <td>6102672004134</td>\n",
       "      <td>ASSAULT</td>\n",
       "      <td>BATTERY</td>\n",
       "      <td>Monday</td>\n",
       "      <td>NORTHERN</td>\n",
       "      <td>NONE</td>\n",
       "      <td>-122.425839</td>\n",
       "      <td>37.778486</td>\n",
       "      <td>2006</td>\n",
       "      <td>9</td>\n",
       "      <td>22</td>\n",
       "      <td>Fall</td>\n",
       "    </tr>\n",
       "    <tr>\n",
       "      <th>2</th>\n",
       "      <td>16020415607021</td>\n",
       "      <td>VEHICLE THEFT</td>\n",
       "      <td>STOLEN AUTOMOBILE</td>\n",
       "      <td>Thursday</td>\n",
       "      <td>TARAVAL</td>\n",
       "      <td>NONE</td>\n",
       "      <td>-122.463545</td>\n",
       "      <td>37.707968</td>\n",
       "      <td>2016</td>\n",
       "      <td>3</td>\n",
       "      <td>19</td>\n",
       "      <td>Spring</td>\n",
       "    </tr>\n",
       "    <tr>\n",
       "      <th>3</th>\n",
       "      <td>13011910904134</td>\n",
       "      <td>ASSAULT</td>\n",
       "      <td>BATTERY</td>\n",
       "      <td>Sunday</td>\n",
       "      <td>MISSION</td>\n",
       "      <td>NONE</td>\n",
       "      <td>-122.425237</td>\n",
       "      <td>37.754222</td>\n",
       "      <td>2013</td>\n",
       "      <td>2</td>\n",
       "      <td>18</td>\n",
       "      <td>Winter</td>\n",
       "    </tr>\n",
       "    <tr>\n",
       "      <th>4</th>\n",
       "      <td>15021632104134</td>\n",
       "      <td>ASSAULT</td>\n",
       "      <td>BATTERY</td>\n",
       "      <td>Tuesday</td>\n",
       "      <td>SOUTHERN</td>\n",
       "      <td>NONE</td>\n",
       "      <td>-122.403405</td>\n",
       "      <td>37.775421</td>\n",
       "      <td>2015</td>\n",
       "      <td>3</td>\n",
       "      <td>0</td>\n",
       "      <td>Spring</td>\n",
       "    </tr>\n",
       "  </tbody>\n",
       "</table>\n",
       "</div>"
      ],
      "text/plain": [
       "             PdId       Category           Descript DayOfWeek PdDistrict  \\\n",
       "0  11049313327195       TRESPASS        TRESPASSING    Sunday    TARAVAL   \n",
       "1   6102672004134        ASSAULT            BATTERY    Monday   NORTHERN   \n",
       "2  16020415607021  VEHICLE THEFT  STOLEN AUTOMOBILE  Thursday    TARAVAL   \n",
       "3  13011910904134        ASSAULT            BATTERY    Sunday    MISSION   \n",
       "4  15021632104134        ASSAULT            BATTERY   Tuesday   SOUTHERN   \n",
       "\n",
       "  Resolution           X          Y  Year  Month  Hour  Season  \n",
       "0       NONE -122.466758  37.729185  2011      6    13  Summer  \n",
       "1       NONE -122.425839  37.778486  2006      9    22    Fall  \n",
       "2       NONE -122.463545  37.707968  2016      3    19  Spring  \n",
       "3       NONE -122.425237  37.754222  2013      2    18  Winter  \n",
       "4       NONE -122.403405  37.775421  2015      3     0  Spring  "
      ]
     },
     "execution_count": 4,
     "metadata": {},
     "output_type": "execute_result"
    }
   ],
   "source": [
    "# Drop last four columns: X, Y, location, data_loaded_at (not needed for analysis)\n",
    "df = df.iloc[:, :-2]\n",
    "\n",
    "# Transform date and timestamp columns to month, year, and hour of day\n",
    "df['Date'] = pd.to_datetime(df['Date'])  # Double check Date is in timeframe format\n",
    "df['Year'] = df['Date'].dt.year\n",
    "df['Month'] = df['Date'].dt.month\n",
    "\n",
    "df['Time'] = pd.to_datetime(df['Time']) # Double check Time is in timestamp format\n",
    "df['Hour'] = df['Time'].dt.hour \n",
    "df['Season'] = df['Month'].map({12:'Winter',1:'Winter',2:'Winter',\n",
    "                                3:'Spring',4:'Spring',5:'Spring',\n",
    "                                6:'Summer',7:'Summer',8:'Summer',\n",
    "                                9:'Fall',10:'Fall',11:'Fall'})\n",
    "\n",
    "df = df.drop(['Date', 'Time','IncidntNum','Incident Code','Address'], axis=1) # Drop redundant columns\n",
    "df.head()"
   ]
  },
  {
   "cell_type": "code",
   "execution_count": 5,
   "id": "884740a0",
   "metadata": {},
   "outputs": [
    {
     "data": {
      "text/plain": [
       "array([[-1.47509049, -0.09876849],\n",
       "       [-0.10317343,  0.01670602],\n",
       "       [-1.36736536, -0.14846105],\n",
       "       ...,\n",
       "       [ 0.28474971,  0.03010745],\n",
       "       [-0.39568048,  0.02997249],\n",
       "       [-0.14026403,  0.01906136]])"
      ]
     },
     "execution_count": 5,
     "metadata": {},
     "output_type": "execute_result"
    }
   ],
   "source": [
    "# Data formatting\n",
    "df['Category'] = df['Category'].str.title().str.strip()\n",
    "df['Descript'] = df['Descript'].str.title().str.strip()\n",
    "df['PdDistrict'] = df['PdDistrict'].str.title().str.strip()\n",
    "df['Resolution'] = df['Resolution'].str.title().str.strip()\n",
    "df['Month'] = df['Month'].astype(int)\n",
    "df['Year'] = df['Year'].astype(int)\n",
    "df['Hour'] = df['Hour'].astype(int)\n",
    "\n",
    "#Extract coordinates for spatial clustering\n",
    "coords = df[['X', 'Y']]\n",
    "scaled_coords = StandardScaler().fit_transform(coords)\n",
    "scaled_coords"
   ]
  },
  {
   "cell_type": "code",
   "execution_count": null,
   "id": "feec291d",
   "metadata": {},
   "outputs": [],
   "source": [
    "# Define the output CSV file name\n",
    "output_file = 'SF_Police_Reports_2003_to_2018_cleaned.csv'\n",
    "df.to_csv(output_file, index=False) # index=False prevents writing the DataFrame index as a column\n",
    "\n",
    "print(f\"DataFrame successfully exported to {output_file}\")"
   ]
  }
 ],
 "metadata": {
  "kernelspec": {
   "display_name": "Python 3 (ipykernel)",
   "language": "python",
   "name": "python3"
  },
  "language_info": {
   "codemirror_mode": {
    "name": "ipython",
    "version": 3
   },
   "file_extension": ".py",
   "mimetype": "text/x-python",
   "name": "python",
   "nbconvert_exporter": "python",
   "pygments_lexer": "ipython3",
   "version": "3.10.9"
  }
 },
 "nbformat": 4,
 "nbformat_minor": 5
}
