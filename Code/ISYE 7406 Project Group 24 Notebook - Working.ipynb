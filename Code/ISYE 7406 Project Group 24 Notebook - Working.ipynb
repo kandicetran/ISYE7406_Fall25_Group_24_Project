{
 "cells": [
  {
   "cell_type": "code",
   "execution_count": 7,
   "id": "b07e4d71",
   "metadata": {},
   "outputs": [
    {
     "name": "stdout",
     "output_type": "stream",
     "text": [
      "Error loading CSV file: [Errno 2] No such file or directory: 'data/Police_Department_Incident_Reports__Historical_2003_to_May_2018.csv'\n",
      "SQLite database connected. Database path: police_reports.db\n",
      "Data successfully written to table 'police_incident_reports' in the SQLite database.\n",
      "\\nExecuting query:\\nSELECT *,\n",
      "    CASE \n",
      "        WHEN Category IN ('KIDNAPPING', 'SEX OFFENSES, FORCIBLE', 'WEAPON LAWS', \n",
      "                          'ARSON', 'ROBBERY', 'ASSAULT', 'DRUG/NARCOTIC', \n",
      "                          'PROSTITUTION', 'EXTORTION', 'BURGLARY', 'VEHICLE THEFT') THEN 'High'\n",
      "        WHEN Category IN ('SUSPICIOUS OCC', 'FORGERY/COUNTERFEITING', 'OTHER OFFENSES', \n",
      "                          'STOLEN PROPERTY', 'TRESPASS', 'MISSING PERSON', 'WARRANTS', \n",
      "                          'DRIVING UNDER THE INFLUENCE', 'TREA', 'EMBEZZLEMENT', \n",
      "                          'DRUNKENNESS', 'SECONDARY CODES', 'RECOVERED VEHICLE', \n",
      "                          'LARCENY/THEFT', 'SUICIDE', 'FRAUD', 'PORNOGRAPHY/OBSCENE MAT', \n",
      "                          'LOITERING', 'BAD CHECKS', 'LIQUOR LAWS', 'GAMBLING', \n",
      "                          'NON-CRIMINAL', 'DISORDERLY CONDUCT', 'BRIBERY', 'VANDALISM',\n",
      "                          'SEX OFFENSES, NON FORCIBLE') THEN 'Low'\n",
      "        ELSE 'Low'\n",
      "    END AS Crime_Level\n",
      "    FROM police_incident_reports;\n",
      "\\nQuery Results:\n",
      "                   PdId  IncidntNum  Incident Code       Category  \\\n",
      "0        11049313327195   110493133          27195       TRESPASS   \n",
      "1         6102672004134    61026720           4134        ASSAULT   \n",
      "2        16020415607021   160204156           7021  VEHICLE THEFT   \n",
      "3        13011910904134   130119109           4134        ASSAULT   \n",
      "4        15021632104134   150216321           4134        ASSAULT   \n",
      "...                 ...         ...            ...            ...   \n",
      "2071731  13089282219057   130892822          19057        ASSAULT   \n",
      "2071732   3042968062050    30429680          62050       WARRANTS   \n",
      "2071733   5136232416621    51362324          16621  DRUG/NARCOTIC   \n",
      "2071734   9068230127090    90682301          27090  LARCENY/THEFT   \n",
      "2071735   8113263619090    81132636          19090    DRUNKENNESS   \n",
      "\n",
      "                                             Descript DayOfWeek        Date  \\\n",
      "0                                         TRESPASSING    Sunday  06/19/2011   \n",
      "1                                             BATTERY    Monday  09/25/2006   \n",
      "2                                   STOLEN AUTOMOBILE  Thursday  03/03/2016   \n",
      "3                                             BATTERY    Sunday  02/10/2013   \n",
      "4                                             BATTERY   Tuesday  03/10/2015   \n",
      "...                                               ...       ...         ...   \n",
      "2071731                          THREATS AGAINST LIFE    Monday  10/21/2013   \n",
      "2071732               ENROUTE TO OUTSIDE JURISDICTION  Saturday  04/12/2003   \n",
      "2071733               POSSESSION OF BASE/ROCK COCAINE  Saturday  12/03/2005   \n",
      "2071734                    LOST PROPERTY, PETTY THEFT  Saturday  07/04/2009   \n",
      "2071735  UNDER INFLUENCE OF ALCOHOL IN A PUBLIC PLACE  Thursday  10/23/2008   \n",
      "\n",
      "          Time  PdDistrict      Resolution                      Address  \\\n",
      "0        13:06     TARAVAL            NONE        100 Block of APTOS AV   \n",
      "1        22:15    NORTHERN            NONE       400 Block of FULTON ST   \n",
      "2        19:30     TARAVAL            NONE       100 Block of BEPLER ST   \n",
      "3        18:09     MISSION            NONE      900 Block of DOLORES ST   \n",
      "4        00:01    SOUTHERN            NONE       800 Block of BRYANT ST   \n",
      "...        ...         ...             ...                          ...   \n",
      "2071731  15:40     CENTRAL  ARREST, BOOKED         GEARY ST / POWELL ST   \n",
      "2071732  01:05     BAYVIEW  ARREST, BOOKED    200 Block of BAY SHORE BL   \n",
      "2071733  17:10  TENDERLOIN  ARREST, BOOKED  300 Block of LEAVENWORTH ST   \n",
      "2071734  21:30    NORTHERN       UNFOUNDED        GEARY BL / STEINER ST   \n",
      "2071735  00:45    NORTHERN  ARREST, BOOKED       900 Block of LAGUNA ST   \n",
      "\n",
      "                  X          Y                             location  \\\n",
      "0       -122.466758  37.729185   POINT (-122.466758005 37.72918458)   \n",
      "1       -122.425839  37.778486   POINT (-122.42583948 37.778486375)   \n",
      "2       -122.463545  37.707968  POINT (-122.463545017 37.707968365)   \n",
      "3       -122.425237  37.754222  POINT (-122.425236707 37.754222191)   \n",
      "4       -122.403405  37.775421  POINT (-122.403404791 37.775420707)   \n",
      "...             ...        ...                                  ...   \n",
      "2071731 -122.408231  37.787359  POINT (-122.408231026 37.787359495)   \n",
      "2071732 -122.405189  37.743391  POINT (-122.405188566 37.743391158)   \n",
      "2071733 -122.414269  37.784208  POINT (-122.414269362 37.784208112)   \n",
      "2071734 -122.434564  37.784150  POINT (-122.434563737 37.784150492)   \n",
      "2071735 -122.426946  37.779492  POINT (-122.426945737 37.779491987)   \n",
      "\n",
      "                 data_loaded_at Crime_Level  \n",
      "0        2025/06/20 12:17:56 PM         Low  \n",
      "1        2025/06/20 12:17:56 PM        High  \n",
      "2        2025/06/20 12:17:56 PM        High  \n",
      "3        2025/06/20 12:17:56 PM        High  \n",
      "4        2025/06/20 12:17:56 PM        High  \n",
      "...                         ...         ...  \n",
      "2071731  2025/06/20 12:17:56 PM        High  \n",
      "2071732  2025/06/20 12:17:56 PM         Low  \n",
      "2071733  2025/06/20 12:17:56 PM        High  \n",
      "2071734  2025/06/20 12:17:56 PM         Low  \n",
      "2071735  2025/06/20 12:17:56 PM         Low  \n",
      "\n",
      "[2071736 rows x 16 columns]\n",
      "SQLite connection closed.\n"
     ]
    }
   ],
   "source": [
    "import sqlite3\n",
    "import pandas as pd\n",
    "\n",
    "# File path for the CSV\n",
    "csv_file_path = 'data/Police_Department_Incident_Reports__Historical_2003_to_May_2018.csv'\n",
    "\n",
    "\n",
    "sqlite_db_path = \"police_reports.db\"\n",
    "\n",
    "\n",
    "table_name = \"police_incident_reports\"\n",
    "\n",
    "try:\n",
    "    df = pd.read_csv(csv_file_path)\n",
    "    print(\"CSV file successfully loaded into a DataFrame.\")\n",
    "except Exception as e:\n",
    "    print(f\"Error loading CSV file: {e}\")\n",
    "\n",
    "\n",
    "try:\n",
    "    conn = sqlite3.connect(sqlite_db_path)\n",
    "    print(f\"SQLite database connected. Database path: {sqlite_db_path}\")\n",
    "\n",
    "    \n",
    "    df.to_sql(table_name, conn, if_exists='replace', index=False)\n",
    "    print(f\"Data successfully written to table '{table_name}' in the SQLite database.\")\n",
    "\n",
    "    \n",
    "    query = f\"\"\"SELECT *,\n",
    "    CASE \n",
    "        WHEN Category IN ('KIDNAPPING', 'SEX OFFENSES, FORCIBLE', 'WEAPON LAWS', \n",
    "                          'ARSON', 'ROBBERY', 'ASSAULT', 'DRUG/NARCOTIC', \n",
    "                          'PROSTITUTION', 'EXTORTION', 'BURGLARY', 'VEHICLE THEFT') THEN 'High'\n",
    "        WHEN Category IN ('SUSPICIOUS OCC', 'FORGERY/COUNTERFEITING', 'OTHER OFFENSES', \n",
    "                          'STOLEN PROPERTY', 'TRESPASS', 'MISSING PERSON', 'WARRANTS', \n",
    "                          'DRIVING UNDER THE INFLUENCE', 'TREA', 'EMBEZZLEMENT', \n",
    "                          'DRUNKENNESS', 'SECONDARY CODES', 'RECOVERED VEHICLE', \n",
    "                          'LARCENY/THEFT', 'SUICIDE', 'FRAUD', 'PORNOGRAPHY/OBSCENE MAT', \n",
    "                          'LOITERING', 'BAD CHECKS', 'LIQUOR LAWS', 'GAMBLING', \n",
    "                          'NON-CRIMINAL', 'DISORDERLY CONDUCT', 'BRIBERY', 'VANDALISM',\n",
    "                          'SEX OFFENSES, NON FORCIBLE') THEN 'Low'\n",
    "        ELSE 'Low'\n",
    "    END AS Crime_Level\n",
    "    FROM {table_name};\"\"\"\n",
    "    print(f\"\\\\nExecuting query:\\\\n{query}\")\n",
    "\n",
    "    \n",
    "    result_df = pd.read_sql_query(query, conn)\n",
    "\n",
    "    \n",
    "    print(\"\\\\nQuery Results:\")\n",
    "    print(result_df)\n",
    "\n",
    "except Exception as e:\n",
    "    print(f\"Error setting up SQLite connection, writing data, or querying data: {e}\")\n",
    "finally:\n",
    "    if 'conn' in locals() or 'conn' in globals():\n",
    "        conn.close()\n",
    "        print(\"SQLite connection closed.\")"
   ]
  },
  {
   "cell_type": "code",
   "execution_count": 56,
   "id": "197e25e2",
   "metadata": {},
   "outputs": [],
   "source": [
    "import pandas as pd\n",
    "import os\n",
    "from sklearn.preprocessing import StandardScaler"
   ]
  },
  {
   "cell_type": "code",
   "execution_count": 12,
   "id": "c03a85af",
   "metadata": {},
   "outputs": [
    {
     "data": {
      "text/plain": [
       "'/Users/kandicetran/Downloads'"
      ]
     },
     "execution_count": 12,
     "metadata": {},
     "output_type": "execute_result"
    }
   ],
   "source": [
    "os.getcwd()"
   ]
  },
  {
   "cell_type": "code",
   "execution_count": 70,
   "id": "3c5cc007",
   "metadata": {},
   "outputs": [],
   "source": [
    "df = pd.read_csv(\"/Users/kandicetran/Downloads/Police_Department_Incident_Reports__Historical_2003_to_May_2018_20250930.csv\")"
   ]
  },
  {
   "cell_type": "code",
   "execution_count": 71,
   "id": "ad3df014",
   "metadata": {},
   "outputs": [
    {
     "data": {
      "text/plain": [
       "PdId              0\n",
       "IncidntNum        0\n",
       "Incident Code     0\n",
       "Category          0\n",
       "Descript          0\n",
       "DayOfWeek         0\n",
       "Date              0\n",
       "Time              0\n",
       "PdDistrict        0\n",
       "Resolution        0\n",
       "Address           0\n",
       "X                 0\n",
       "Y                 0\n",
       "location          0\n",
       "data_loaded_at    0\n",
       "dtype: int64"
      ]
     },
     "execution_count": 71,
     "metadata": {},
     "output_type": "execute_result"
    }
   ],
   "source": [
    "df = df.dropna() # Drop row with null values\n",
    "df.isnull().sum() # Double check null values"
   ]
  },
  {
   "cell_type": "code",
   "execution_count": 72,
   "id": "556460b2",
   "metadata": {},
   "outputs": [],
   "source": [
    "# Drop last four columns: X, Y, location, data_loaded_at (not needed for analysis)\n",
    "df = df.iloc[:, :-2]"
   ]
  },
  {
   "cell_type": "markdown",
   "id": "f81283bd",
   "metadata": {},
   "source": [
    "Add Additional Part of Analysis below here"
   ]
  },
  {
   "cell_type": "code",
   "execution_count": 73,
   "id": "4666ac8c",
   "metadata": {},
   "outputs": [
    {
     "data": {
      "text/html": [
       "<div>\n",
       "<style scoped>\n",
       "    .dataframe tbody tr th:only-of-type {\n",
       "        vertical-align: middle;\n",
       "    }\n",
       "\n",
       "    .dataframe tbody tr th {\n",
       "        vertical-align: top;\n",
       "    }\n",
       "\n",
       "    .dataframe thead th {\n",
       "        text-align: right;\n",
       "    }\n",
       "</style>\n",
       "<table border=\"1\" class=\"dataframe\">\n",
       "  <thead>\n",
       "    <tr style=\"text-align: right;\">\n",
       "      <th></th>\n",
       "      <th>PdId</th>\n",
       "      <th>Category</th>\n",
       "      <th>Descript</th>\n",
       "      <th>DayOfWeek</th>\n",
       "      <th>PdDistrict</th>\n",
       "      <th>Resolution</th>\n",
       "      <th>X</th>\n",
       "      <th>Y</th>\n",
       "      <th>Year</th>\n",
       "      <th>Month</th>\n",
       "      <th>Hour</th>\n",
       "      <th>Season</th>\n",
       "    </tr>\n",
       "  </thead>\n",
       "  <tbody>\n",
       "    <tr>\n",
       "      <th>0</th>\n",
       "      <td>11049313327195</td>\n",
       "      <td>TRESPASS</td>\n",
       "      <td>TRESPASSING</td>\n",
       "      <td>Sunday</td>\n",
       "      <td>TARAVAL</td>\n",
       "      <td>NONE</td>\n",
       "      <td>-122.466758</td>\n",
       "      <td>37.729185</td>\n",
       "      <td>2011</td>\n",
       "      <td>6</td>\n",
       "      <td>13</td>\n",
       "      <td>Summer</td>\n",
       "    </tr>\n",
       "    <tr>\n",
       "      <th>1</th>\n",
       "      <td>6102672004134</td>\n",
       "      <td>ASSAULT</td>\n",
       "      <td>BATTERY</td>\n",
       "      <td>Monday</td>\n",
       "      <td>NORTHERN</td>\n",
       "      <td>NONE</td>\n",
       "      <td>-122.425839</td>\n",
       "      <td>37.778486</td>\n",
       "      <td>2006</td>\n",
       "      <td>9</td>\n",
       "      <td>22</td>\n",
       "      <td>Fall</td>\n",
       "    </tr>\n",
       "    <tr>\n",
       "      <th>2</th>\n",
       "      <td>16020415607021</td>\n",
       "      <td>VEHICLE THEFT</td>\n",
       "      <td>STOLEN AUTOMOBILE</td>\n",
       "      <td>Thursday</td>\n",
       "      <td>TARAVAL</td>\n",
       "      <td>NONE</td>\n",
       "      <td>-122.463545</td>\n",
       "      <td>37.707968</td>\n",
       "      <td>2016</td>\n",
       "      <td>3</td>\n",
       "      <td>19</td>\n",
       "      <td>Spring</td>\n",
       "    </tr>\n",
       "    <tr>\n",
       "      <th>3</th>\n",
       "      <td>13011910904134</td>\n",
       "      <td>ASSAULT</td>\n",
       "      <td>BATTERY</td>\n",
       "      <td>Sunday</td>\n",
       "      <td>MISSION</td>\n",
       "      <td>NONE</td>\n",
       "      <td>-122.425237</td>\n",
       "      <td>37.754222</td>\n",
       "      <td>2013</td>\n",
       "      <td>2</td>\n",
       "      <td>18</td>\n",
       "      <td>Winter</td>\n",
       "    </tr>\n",
       "    <tr>\n",
       "      <th>4</th>\n",
       "      <td>15021632104134</td>\n",
       "      <td>ASSAULT</td>\n",
       "      <td>BATTERY</td>\n",
       "      <td>Tuesday</td>\n",
       "      <td>SOUTHERN</td>\n",
       "      <td>NONE</td>\n",
       "      <td>-122.403405</td>\n",
       "      <td>37.775421</td>\n",
       "      <td>2015</td>\n",
       "      <td>3</td>\n",
       "      <td>0</td>\n",
       "      <td>Spring</td>\n",
       "    </tr>\n",
       "  </tbody>\n",
       "</table>\n",
       "</div>"
      ],
      "text/plain": [
       "             PdId       Category           Descript DayOfWeek PdDistrict  \\\n",
       "0  11049313327195       TRESPASS        TRESPASSING    Sunday    TARAVAL   \n",
       "1   6102672004134        ASSAULT            BATTERY    Monday   NORTHERN   \n",
       "2  16020415607021  VEHICLE THEFT  STOLEN AUTOMOBILE  Thursday    TARAVAL   \n",
       "3  13011910904134        ASSAULT            BATTERY    Sunday    MISSION   \n",
       "4  15021632104134        ASSAULT            BATTERY   Tuesday   SOUTHERN   \n",
       "\n",
       "  Resolution           X          Y  Year  Month  Hour  Season  \n",
       "0       NONE -122.466758  37.729185  2011      6    13  Summer  \n",
       "1       NONE -122.425839  37.778486  2006      9    22    Fall  \n",
       "2       NONE -122.463545  37.707968  2016      3    19  Spring  \n",
       "3       NONE -122.425237  37.754222  2013      2    18  Winter  \n",
       "4       NONE -122.403405  37.775421  2015      3     0  Spring  "
      ]
     },
     "execution_count": 73,
     "metadata": {},
     "output_type": "execute_result"
    }
   ],
   "source": [
    "# Transform date and timestamp columns to month, year, and hour of day\n",
    "df['Date'] = pd.to_datetime(df['Date'])  # Double check Date is in timeframe format\n",
    "df['Year'] = df['Date'].dt.year\n",
    "df['Month'] = df['Date'].dt.month\n",
    "\n",
    "df['Time'] = pd.to_datetime(df['Time']) # Double check Time is in timestamp format\n",
    "df['Hour'] = df['Time'].dt.hour \n",
    "df['Season'] = df['Month'].map({12:'Winter',1:'Winter',2:'Winter',\n",
    "                                3:'Spring',4:'Spring',5:'Spring',\n",
    "                                6:'Summer',7:'Summer',8:'Summer',\n",
    "                                9:'Fall',10:'Fall',11:'Fall'})\n",
    "\n",
    "df = df.drop(['Date', 'Time','IncidntNum','Incident Code','Address'], axis=1) # Drop redundant columns\n",
    "df.head()"
   ]
  },
  {
   "cell_type": "code",
   "execution_count": 74,
   "id": "76db0a67",
   "metadata": {
    "scrolled": true
   },
   "outputs": [
    {
     "data": {
      "text/plain": [
       "array([[-1.47509049, -0.09876849],\n",
       "       [-0.10317343,  0.01670602],\n",
       "       [-1.36736536, -0.14846105],\n",
       "       ...,\n",
       "       [ 0.28474971,  0.03010745],\n",
       "       [-0.39568048,  0.02997249],\n",
       "       [-0.14026403,  0.01906136]])"
      ]
     },
     "execution_count": 74,
     "metadata": {},
     "output_type": "execute_result"
    }
   ],
   "source": [
    "# Data formatting\n",
    "df['Category'] = df['Category'].str.title().str.strip()\n",
    "df['Descript'] = df['Descript'].str.title().str.strip()\n",
    "df['PdDistrict'] = df['PdDistrict'].str.title().str.strip()\n",
    "df['Resolution'] = df['Resolution'].str.title().str.strip()\n",
    "df['Month'] = df['Month'].astype(int)\n",
    "df['Year'] = df['Year'].astype(int)\n",
    "df['Hour'] = df['Hour'].astype(int)\n",
    "\n",
    "#Extract coordinates for spatial clustering\n",
    "coords = df[['X', 'Y']]\n",
    "scaled_coords = StandardScaler().fit_transform(coords)\n",
    "scaled_coords"
   ]
  },
  {
   "cell_type": "code",
   "execution_count": 78,
   "id": "1bdd8afa",
   "metadata": {},
   "outputs": [
    {
     "name": "stdout",
     "output_type": "stream",
     "text": [
      "DataFrame successfully exported to SF_Police_Reports_2003_to_2018_cleaned.csv\n"
     ]
    }
   ],
   "source": [
    "# Define the output CSV file name\n",
    "output_file = 'SF_Police_Reports_2003_to_2018_cleaned.csv'\n",
    "df.to_csv(output_file, index=False) # index=False prevents writing the DataFrame index as a column\n",
    "\n",
    "print(f\"DataFrame successfully exported to {output_file}\")"
   ]
  },
  {
   "cell_type": "markdown",
   "id": "75ed8b4c",
   "metadata": {},
   "source": []
  }
 ],
 "metadata": {
  "kernelspec": {
   "display_name": "Python 3 (ipykernel)",
   "language": "python",
   "name": "python3"
  },
  "language_info": {
   "codemirror_mode": {
    "name": "ipython",
    "version": 3
   },
   "file_extension": ".py",
   "mimetype": "text/x-python",
   "name": "python",
   "nbconvert_exporter": "python",
   "pygments_lexer": "ipython3",
   "version": "3.10.9"
  }
 },
 "nbformat": 4,
 "nbformat_minor": 5
}
